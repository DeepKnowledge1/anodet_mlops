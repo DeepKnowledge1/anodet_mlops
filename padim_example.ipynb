{
 "cells": [
  {
   "cell_type": "markdown",
   "metadata": {},
   "source": [
    "# Padim Example\n",
    "\n",
    "#### Import dependencies"
   ]
  },
  {
   "cell_type": "code",
   "execution_count": null,
   "metadata": {},
   "outputs": [],
   "source": [
    "import os\n",
    "import anodet\n",
    "import numpy as np\n",
    "import torch\n",
    "import cv2\n",
    "from torch.utils.data import DataLoader\n",
    "import matplotlib.pyplot as plt"
   ]
  },
  {
   "cell_type": "markdown",
   "metadata": {},
   "source": [
    "# \n",
    "\n",
    "## Training\n",
    "\n",
    "In this notebook the MVTec dataset will be used. It can be downloaded from: https://www.mvtec.com/company/research/datasets/mvtec-ad.\n",
    "\n",
    "Change `DATASET_PATH` to the path where you save the dataset.\n",
    "\n",
    "Also, if you want to save and load the model. Add a folder where to save them and change the path of `MODEL_DATA_PATH` to that folder."
   ]
  },
  {
   "cell_type": "code",
   "execution_count": null,
   "metadata": {},
   "outputs": [],
   "source": [
    "DATASET_PATH = os.path.realpath(r\"D:\\01-DATA\\bottle\")\n",
    "MODEL_DATA_PATH = os.path.realpath(\"./distributions/\")\n",
    "os.makedirs(MODEL_DATA_PATH,exist_ok=True)"
   ]
  },
  {
   "cell_type": "markdown",
   "metadata": {},
   "source": [
    "#### Load dataset"
   ]
  },
  {
   "cell_type": "code",
   "execution_count": null,
   "metadata": {},
   "outputs": [],
   "source": [
    "dataset = anodet.AnodetDataset(os.path.join(DATASET_PATH, \"train/good\"))\n",
    "dataloader = DataLoader(dataset, batch_size=2)\n",
    "print(\"Number of images in dataset:\", len(dataloader.dataset))"
   ]
  },
  {
   "cell_type": "markdown",
   "metadata": {},
   "source": [
    "#### Init the model"
   ]
  },
  {
   "cell_type": "code",
   "execution_count": null,
   "metadata": {},
   "outputs": [],
   "source": [
    "padim = anodet.Padim(backbone='resnet18')\n"
   ]
  },
  {
   "cell_type": "markdown",
   "metadata": {},
   "source": [
    "#### Fit the model to the dataset"
   ]
  },
  {
   "cell_type": "code",
   "execution_count": null,
   "metadata": {},
   "outputs": [],
   "source": [
    "padim.fit(dataloader)"
   ]
  },
  {
   "cell_type": "markdown",
   "metadata": {},
   "source": [
    "#### Save the necessary parameters"
   ]
  },
  {
   "cell_type": "code",
   "execution_count": null,
   "metadata": {},
   "outputs": [],
   "source": [
    "distributions_path = './distributions/'\n",
    "# torch.save(padim.mean, os.path.join(MODEL_DATA_PATH, \"bottle_mean.pt\"))\n",
    "# torch.save(padim.cov_inv, os.path.join(MODEL_DATA_PATH, \"bottle_cov_inv.pt\"))\n",
    "\n",
    "torch.save(padim, os.path.join(MODEL_DATA_PATH, \"padim_model.pt\"))\n"
   ]
  },
  {
   "cell_type": "markdown",
   "metadata": {},
   "source": [
    "# \n",
    "\n",
    "## Inference\n",
    "#### Load test images"
   ]
  },
  {
   "cell_type": "code",
   "execution_count": null,
   "metadata": {},
   "outputs": [],
   "source": [
    "paths = [\n",
    "    os.path.join(DATASET_PATH, \"test/broken_large/000.png\"),\n",
    "    os.path.join(DATASET_PATH, \"test/broken_small/000.png\"),\n",
    "    os.path.join(DATASET_PATH, \"test/contamination/000.png\"),\n",
    "    os.path.join(DATASET_PATH, \"test/good/000.png\"),\n",
    "    os.path.join(DATASET_PATH, \"test/good/001.png\"),\n",
    "]\n",
    "\n",
    "images = []\n",
    "for path in paths:\n",
    "    image = cv2.imread(path)\n",
    "    image = cv2.cvtColor(image, cv2.COLOR_BGR2RGB)\n",
    "    images.append(image)\n",
    "\n"
   ]
  },
  {
   "cell_type": "code",
   "execution_count": null,
   "metadata": {},
   "outputs": [],
   "source": [
    "batch = anodet.to_batch(images, anodet.standard_image_transform, torch.device('cpu'))"
   ]
  },
  {
   "cell_type": "markdown",
   "metadata": {},
   "source": [
    "#### Load the model data"
   ]
  },
  {
   "cell_type": "code",
   "execution_count": null,
   "metadata": {},
   "outputs": [],
   "source": [
    "# model = torch.load(os.path.join(MODEL_DATA_PATH, 'padim_model.pt'))\n",
    "# mean = torch.load(os.path.join(MODEL_DATA_PATH, 'padim_model.pt'))\n",
    "# cov_inv = torch.load(os.path.join(MODEL_DATA_PATH, 'bottle_cov_inv.pt'))"
   ]
  },
  {
   "cell_type": "markdown",
   "metadata": {},
   "source": [
    "#### init the model"
   ]
  },
  {
   "cell_type": "code",
   "execution_count": null,
   "metadata": {},
   "outputs": [],
   "source": [
    "# padim = anodet.Padim(backbone='resnet18', mean=mean, cov_inv=cov_inv, device=torch.device('cpu'))"
   ]
  },
  {
   "cell_type": "markdown",
   "metadata": {},
   "source": [
    "#### Make prediction"
   ]
  },
  {
   "cell_type": "code",
   "execution_count": null,
   "metadata": {},
   "outputs": [],
   "source": [
    "image_scores, score_maps = padim.predict(batch)\n",
    "print(\"Image Score:\", image_scores)\n"
   ]
  },
  {
   "cell_type": "markdown",
   "metadata": {},
   "source": [
    "#### Interpret the prediction"
   ]
  },
  {
   "cell_type": "code",
   "execution_count": null,
   "metadata": {},
   "outputs": [],
   "source": [
    "THRESH = 13\n",
    "score_map_classifications = anodet.classification(score_maps, THRESH)\n",
    "image_classifications = anodet.classification(image_scores, THRESH)\n",
    "print(\"Image scores:\", image_scores)\n",
    "print(\"Image classifications:\", image_classifications)"
   ]
  },
  {
   "cell_type": "markdown",
   "metadata": {},
   "source": [
    "#### Visualization"
   ]
  },
  {
   "cell_type": "code",
   "execution_count": null,
   "metadata": {},
   "outputs": [],
   "source": [
    "test_images = np.array(images).copy()"
   ]
  },
  {
   "cell_type": "code",
   "execution_count": null,
   "metadata": {},
   "outputs": [],
   "source": [
    "boundary_images = anodet.visualization.framed_boundary_images(test_images, score_map_classifications, image_classifications, padding=40)\n",
    "heatmap_images = anodet.visualization.heatmap_images(test_images, score_maps, alpha=0.5)\n",
    "highlighted_images = anodet.visualization.highlighted_images(images, score_map_classifications, color=(128, 0, 128))\n",
    "\n",
    "for idx in range(len(images)):\n",
    "    fig, axs = plt.subplots(1, 4, figsize=(12, 6))\n",
    "    fig.suptitle('Image: ' + str(idx), y=0.75, fontsize=14)\n",
    "    axs[0].imshow(images[idx])\n",
    "    axs[1].imshow(boundary_images[idx])\n",
    "    axs[2].imshow(heatmap_images[idx])\n",
    "    axs[3].imshow(highlighted_images[idx])\n",
    "    plt.show()"
   ]
  },
  {
   "cell_type": "markdown",
   "metadata": {},
   "source": [
    "#### For one merged image"
   ]
  },
  {
   "cell_type": "code",
   "execution_count": null,
   "metadata": {},
   "outputs": [],
   "source": [
    "heatmap_images = anodet.visualization.heatmap_images(test_images, score_maps, alpha=0.5)\n",
    "tot_img = anodet.visualization.merge_images(heatmap_images, margin=40)\n",
    "fig, axs = plt.subplots(1, 1, figsize=(10, 6))\n",
    "plt.imshow(tot_img)\n",
    "plt.show()"
   ]
  },
  {
   "cell_type": "code",
   "execution_count": null,
   "metadata": {},
   "outputs": [],
   "source": [
    "padim.export_onnx(os.path.join(MODEL_DATA_PATH, \"padim_model.onnx\"))"
   ]
  },
  {
   "cell_type": "code",
   "execution_count": null,
   "metadata": {},
   "outputs": [],
   "source": [
    "import onnxruntime as ort\n",
    "\n",
    "import cv2\n",
    "\n",
    "\n",
    "# --- Load ONNX model\n",
    "onnx_model_path = os.path.join(MODEL_DATA_PATH, \"padim_model.onnx\")\n",
    "session = ort.InferenceSession(\n",
    "    onnx_model_path,\n",
    "    providers=[\"CPUExecutionProvider\"]\n",
    ")\n",
    "\n",
    "\n",
    "# --- Input and output names\n",
    "input_name = session.get_inputs()[0].name\n",
    "output_names = [output.name for output in session.get_outputs()]\n",
    "print(\"Input:\", input_name)\n",
    "print(\"Outputs:\", output_names)\n",
    "\n",
    "# --- Load and preprocess input image\n",
    "def preprocess_image(image_path, input_size=(224, 224)):\n",
    "    \n",
    "    image = cv2.imread(image_path)\n",
    "    image = cv2.cvtColor(image, cv2.COLOR_BGR2RGB)\n",
    "    batch = anodet.to_batch([image], anodet.standard_image_transform, torch.device('cpu'))\n",
    "\n",
    "    return batch.numpy()\n",
    "\n",
    "# --- Run inference\n",
    "\n",
    "paths = [\n",
    "    os.path.join(DATASET_PATH, \"test/broken_large/000.png\"),\n",
    "    os.path.join(DATASET_PATH, \"test/broken_small/000.png\"),\n",
    "    os.path.join(DATASET_PATH, \"test/contamination/000.png\"),\n",
    "    os.path.join(DATASET_PATH, \"test/good/000.png\"),\n",
    "    os.path.join(DATASET_PATH, \"test/good/001.png\"),\n",
    "]\n",
    "\n",
    "for image_path in paths:\n",
    "    input_tensor = preprocess_image(image_path)\n",
    "    # print(input_tensor.shape)\n",
    "    \n",
    "    outputs = session.run(output_names, {input_name: input_tensor})\n",
    "\n",
    "    # --- Postprocess\n",
    "    image_scores = outputs[0]  # shape: (1,)\n",
    "    score_map = outputs[1]     # shape: (1, H, W)\n",
    "\n",
    "    print(\"Image Score:\", image_scores[0])\n"
   ]
  },
  {
   "cell_type": "code",
   "execution_count": null,
   "metadata": {},
   "outputs": [],
   "source": [
    "import mlflow\n",
    "import mlflow.onnx\n",
    "import onnx\n",
    "\n",
    "# Load ONNX model as ModelProto object\n",
    "onnx_model = onnx.load(\"padim_model.onnx\")\n",
    "\n",
    "mlflow.set_tracking_uri(\"file:./mlruns\")  # Optional: use your server URI\n",
    "\n",
    "with mlflow.start_run(run_name=\"padim_onnx_export\"):\n",
    "    mlflow.log_param(\"backbone\", \"resnet18\")\n",
    "\n",
    "    # ✅ Correct: pass the ONNX model object, not path\n",
    "    mlflow.onnx.log_model(\n",
    "        onnx_model=onnx_model,\n",
    "        name=\"padim_model\",\n",
    "        registered_model_name=\"PadimONNX\"\n",
    "    )\n"
   ]
  }
 ],
 "metadata": {
  "kernelspec": {
   "display_name": "padimopti-c3zqGkN3-py3.9",
   "language": "python",
   "name": "python3"
  },
  "language_info": {
   "codemirror_mode": {
    "name": "ipython",
    "version": 3
   },
   "file_extension": ".py",
   "mimetype": "text/x-python",
   "name": "python",
   "nbconvert_exporter": "python",
   "pygments_lexer": "ipython3",
   "version": "3.9.0"
  }
 },
 "nbformat": 4,
 "nbformat_minor": 4
}
